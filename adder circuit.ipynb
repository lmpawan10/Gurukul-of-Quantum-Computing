{
 "cells": [
  {
   "cell_type": "code",
   "execution_count": 1,
   "metadata": {},
   "outputs": [
    {
     "data": {
      "text/plain": [
       "{'qiskit-terra': '0.15.1',\n",
       " 'qiskit-aer': '0.6.1',\n",
       " 'qiskit-ignis': '0.4.0',\n",
       " 'qiskit-ibmq-provider': '0.8.0',\n",
       " 'qiskit-aqua': '0.7.5',\n",
       " 'qiskit': '0.20.0'}"
      ]
     },
     "execution_count": 1,
     "metadata": {},
     "output_type": "execute_result"
    }
   ],
   "source": [
    "import qiskit\n",
    "qiskit.__qiskit_version__"
   ]
  },
  {
   "cell_type": "code",
   "execution_count": 2,
   "metadata": {},
   "outputs": [],
   "source": [
    "n=8"
   ]
  },
  {
   "cell_type": "code",
   "execution_count": 3,
   "metadata": {},
   "outputs": [
    {
     "ename": "NameError",
     "evalue": "name 'QuantumCircuit' is not defined",
     "output_type": "error",
     "traceback": [
      "\u001b[1;31m---------------------------------------------------------------------------\u001b[0m",
      "\u001b[1;31mNameError\u001b[0m                                 Traceback (most recent call last)",
      "\u001b[1;32m<ipython-input-3-924a9ada5564>\u001b[0m in \u001b[0;36m<module>\u001b[1;34m\u001b[0m\n\u001b[1;32m----> 1\u001b[1;33m \u001b[0mencode\u001b[0m\u001b[1;33m=\u001b[0m\u001b[0mQuantumCircuit\u001b[0m\u001b[1;33m(\u001b[0m\u001b[0mn\u001b[0m\u001b[1;33m)\u001b[0m\u001b[1;33m\u001b[0m\u001b[1;33m\u001b[0m\u001b[0m\n\u001b[0m",
      "\u001b[1;31mNameError\u001b[0m: name 'QuantumCircuit' is not defined"
     ]
    }
   ],
   "source": [
    "encode=QuantumCircuit(n)"
   ]
  },
  {
   "cell_type": "code",
   "execution_count": 4,
   "metadata": {},
   "outputs": [],
   "source": [
    "from qiskit import QuantumCircuit,Aer,assemble"
   ]
  },
  {
   "cell_type": "code",
   "execution_count": 5,
   "metadata": {},
   "outputs": [],
   "source": [
    "from qiskit.visualization import plot_histogram\n"
   ]
  },
  {
   "cell_type": "code",
   "execution_count": 6,
   "metadata": {},
   "outputs": [],
   "source": [
    "encode=QuantumCircuit(n)"
   ]
  },
  {
   "cell_type": "code",
   "execution_count": 7,
   "metadata": {},
   "outputs": [
    {
     "data": {
      "text/plain": [
       "<qiskit.circuit.instructionset.InstructionSet at 0x2791e4d2448>"
      ]
     },
     "execution_count": 7,
     "metadata": {},
     "output_type": "execute_result"
    }
   ],
   "source": [
    "encode.x(7)"
   ]
  },
  {
   "cell_type": "code",
   "execution_count": 8,
   "metadata": {},
   "outputs": [
    {
     "data": {
      "text/html": [
       "<pre style=\"word-wrap: normal;white-space: pre;background: #fff0;line-height: 1.1;font-family: &quot;Courier New&quot;,Courier,monospace\">          \n",
       "q_0: ─────\n",
       "          \n",
       "q_1: ─────\n",
       "          \n",
       "q_2: ─────\n",
       "          \n",
       "q_3: ─────\n",
       "          \n",
       "q_4: ─────\n",
       "          \n",
       "q_5: ─────\n",
       "          \n",
       "q_6: ─────\n",
       "     ┌───┐\n",
       "q_7: ┤ X ├\n",
       "     └───┘</pre>"
      ],
      "text/plain": [
       "          \n",
       "q_0: ─────\n",
       "          \n",
       "q_1: ─────\n",
       "          \n",
       "q_2: ─────\n",
       "          \n",
       "q_3: ─────\n",
       "          \n",
       "q_4: ─────\n",
       "          \n",
       "q_5: ─────\n",
       "          \n",
       "q_6: ─────\n",
       "     ┌───┐\n",
       "q_7: ┤ X ├\n",
       "     └───┘"
      ]
     },
     "execution_count": 8,
     "metadata": {},
     "output_type": "execute_result"
    }
   ],
   "source": [
    "encode.draw()"
   ]
  },
  {
   "cell_type": "code",
   "execution_count": 11,
   "metadata": {},
   "outputs": [],
   "source": [
    "n_q = n\n",
    "n_b = n\n",
    "output=QuantumCircuit(n_q, n_b)"
   ]
  },
  {
   "cell_type": "code",
   "execution_count": 13,
   "metadata": {},
   "outputs": [],
   "source": [
    "for i in range(n):\n",
    "    output.measure(i,i)"
   ]
  },
  {
   "cell_type": "code",
   "execution_count": 14,
   "metadata": {},
   "outputs": [
    {
     "data": {
      "text/html": [
       "<pre style=\"word-wrap: normal;white-space: pre;background: #fff0;line-height: 1.1;font-family: &quot;Courier New&quot;,Courier,monospace\">     ┌─┐                     \n",
       "q_0: ┤M├─────────────────────\n",
       "     └╥┘┌─┐                  \n",
       "q_1: ─╫─┤M├──────────────────\n",
       "      ║ └╥┘┌─┐               \n",
       "q_2: ─╫──╫─┤M├───────────────\n",
       "      ║  ║ └╥┘┌─┐            \n",
       "q_3: ─╫──╫──╫─┤M├────────────\n",
       "      ║  ║  ║ └╥┘┌─┐         \n",
       "q_4: ─╫──╫──╫──╫─┤M├─────────\n",
       "      ║  ║  ║  ║ └╥┘┌─┐      \n",
       "q_5: ─╫──╫──╫──╫──╫─┤M├──────\n",
       "      ║  ║  ║  ║  ║ └╥┘┌─┐   \n",
       "q_6: ─╫──╫──╫──╫──╫──╫─┤M├───\n",
       "      ║  ║  ║  ║  ║  ║ └╥┘┌─┐\n",
       "q_7: ─╫──╫──╫──╫──╫──╫──╫─┤M├\n",
       "      ║  ║  ║  ║  ║  ║  ║ └╥┘\n",
       "c: 8/═╩══╩══╩══╩══╩══╩══╩══╩═\n",
       "      0  1  2  3  4  5  6  7 </pre>"
      ],
      "text/plain": [
       "     ┌─┐                     \n",
       "q_0: ┤M├─────────────────────\n",
       "     └╥┘┌─┐                  \n",
       "q_1: ─╫─┤M├──────────────────\n",
       "      ║ └╥┘┌─┐               \n",
       "q_2: ─╫──╫─┤M├───────────────\n",
       "      ║  ║ └╥┘┌─┐            \n",
       "q_3: ─╫──╫──╫─┤M├────────────\n",
       "      ║  ║  ║ └╥┘┌─┐         \n",
       "q_4: ─╫──╫──╫──╫─┤M├─────────\n",
       "      ║  ║  ║  ║ └╥┘┌─┐      \n",
       "q_5: ─╫──╫──╫──╫──╫─┤M├──────\n",
       "      ║  ║  ║  ║  ║ └╥┘┌─┐   \n",
       "q_6: ─╫──╫──╫──╫──╫──╫─┤M├───\n",
       "      ║  ║  ║  ║  ║  ║ └╥┘┌─┐\n",
       "q_7: ─╫──╫──╫──╫──╫──╫──╫─┤M├\n",
       "      ║  ║  ║  ║  ║  ║  ║ └╥┘\n",
       "c: 8/═╩══╩══╩══╩══╩══╩══╩══╩═\n",
       "      0  1  2  3  4  5  6  7 "
      ]
     },
     "execution_count": 14,
     "metadata": {},
     "output_type": "execute_result"
    }
   ],
   "source": [
    "output.draw()"
   ]
  },
  {
   "cell_type": "code",
   "execution_count": 15,
   "metadata": {},
   "outputs": [],
   "source": [
    "qc=output+encode"
   ]
  },
  {
   "cell_type": "code",
   "execution_count": 16,
   "metadata": {},
   "outputs": [
    {
     "data": {
      "image/png": "[encoded data removed]",
      "text/plain": [
       "<Figure size 682.577x565.88 with 1 Axes>"
      ]
     },
     "execution_count": 16,
     "metadata": {},
     "output_type": "execute_result"
    }
   ],
   "source": [
    "qc.draw(output = 'mpl', justify='none')"
   ]
  },
  {
   "cell_type": "code",
   "execution_count": 17,
   "metadata": {},
   "outputs": [
    {
     "data": {
      "text/html": [
       "<pre style=\"word-wrap: normal;white-space: pre;background: #fff0;line-height: 1.1;font-family: &quot;Courier New&quot;,Courier,monospace\">          \n",
       "q_0: ──■──\n",
       "     ┌─┴─┐\n",
       "q_1: ┤ X ├\n",
       "     └───┘</pre>"
      ],
      "text/plain": [
       "          \n",
       "q_0: ──■──\n",
       "     ┌─┴─┐\n",
       "q_1: ┤ X ├\n",
       "     └───┘"
      ]
     },
     "execution_count": 17,
     "metadata": {},
     "output_type": "execute_result"
    }
   ],
   "source": [
    "qc_cnot = QuantumCircuit(2)\n",
    "qc_cnot.cx(0,1)#q0 is the control qubit and q1 is the target qubit\n",
    "qc_cnot.draw()"
   ]
  },
  {
   "cell_type": "code",
   "execution_count": 21,
   "metadata": {},
   "outputs": [
    {
     "data": {
      "text/html": [
       "<pre style=\"word-wrap: normal;white-space: pre;background: #fff0;line-height: 1.1;font-family: &quot;Courier New&quot;,Courier,monospace\">     ┌───┐     ┌─┐   \n",
       "q_0: ┤ X ├──■──┤M├───\n",
       "     └───┘┌─┴─┐└╥┘┌─┐\n",
       "q_1: ─────┤ X ├─╫─┤M├\n",
       "          └───┘ ║ └╥┘\n",
       "c: 2/═══════════╩══╩═\n",
       "                0  1 </pre>"
      ],
      "text/plain": [
       "     ┌───┐     ┌─┐   \n",
       "q_0: ┤ X ├──■──┤M├───\n",
       "     └───┘┌─┴─┐└╥┘┌─┐\n",
       "q_1: ─────┤ X ├─╫─┤M├\n",
       "          └───┘ ║ └╥┘\n",
       "c: 2/═══════════╩══╩═\n",
       "                0  1 "
      ]
     },
     "execution_count": 21,
     "metadata": {},
     "output_type": "execute_result"
    }
   ],
   "source": [
    "qc= QuantumCircuit(2,2)\n",
    "qc.x(0)\n",
    "qc.cx(0,1)\n",
    "qc.measure(0,0)\n",
    "qc.measure(1,1)\n",
    "qc.draw()"
   ]
  },
  {
   "cell_type": "code",
   "execution_count": 31,
   "metadata": {},
   "outputs": [
    {
     "data": {
      "text/html": [
       "<pre style=\"word-wrap: normal;white-space: pre;background: #fff0;line-height: 1.1;font-family: &quot;Courier New&quot;,Courier,monospace\">     ┌───┐ ░            ░       ░       \n",
       "q_0: ┤ X ├─░───■────────░───■───░───────\n",
       "     └───┘ ░   │        ░   │   ░       \n",
       "q_1: ──────░───┼────■───░───■───░───────\n",
       "           ░ ┌─┴─┐┌─┴─┐ ░   │   ░ ┌─┐   \n",
       "q_2: ──────░─┤ X ├┤ X ├─░───┼───░─┤M├───\n",
       "           ░ └───┘└───┘ ░ ┌─┴─┐ ░ └╥┘┌─┐\n",
       "q_3: ──────░────────────░─┤ X ├─░──╫─┤M├\n",
       "           ░            ░ └───┘ ░  ║ └╥┘\n",
       "c: 2/══════════════════════════════╩══╩═\n",
       "                                   0  1 </pre>"
      ],
      "text/plain": [
       "     ┌───┐ ░            ░       ░       \n",
       "q_0: ┤ X ├─░───■────────░───■───░───────\n",
       "     └───┘ ░   │        ░   │   ░       \n",
       "q_1: ──────░───┼────■───░───■───░───────\n",
       "           ░ ┌─┴─┐┌─┴─┐ ░   │   ░ ┌─┐   \n",
       "q_2: ──────░─┤ X ├┤ X ├─░───┼───░─┤M├───\n",
       "           ░ └───┘└───┘ ░ ┌─┴─┐ ░ └╥┘┌─┐\n",
       "q_3: ──────░────────────░─┤ X ├─░──╫─┤M├\n",
       "           ░            ░ └───┘ ░  ║ └╥┘\n",
       "c: 2/══════════════════════════════╩══╩═\n",
       "                                   0  1 "
      ]
     },
     "execution_count": 31,
     "metadata": {},
     "output_type": "execute_result"
    }
   ],
   "source": [
    "#If we don't want to overwrite on our previous qubits,\n",
    "qc_ha = QuantumCircuit(4,2)\n",
    "# encode inputs in qubits 0 and 1\n",
    "qc_ha.x(0) # For a=0, remove this line. For a=1, leave it.\n",
    "#qc_ha.x(1) # For b=0, remove this line. For b=1, leave it.\n",
    "qc_ha.barrier()\n",
    "# use cnots to write the XOR of the inputs on qubit 2\n",
    "qc_ha.cx(0,2)\n",
    "qc_ha.cx(1,2)\n",
    "qc_ha.barrier()\n",
    "qc_ha.ccx(0,1,3)\n",
    "qc_ha.barrier()\n",
    "# extract outputs\n",
    "qc_ha.measure(2,0) # extract XOR value\n",
    "qc_ha.measure(3,1)\n",
    "\n",
    "qc_ha.draw()"
   ]
  },
  {
   "cell_type": "code",
   "execution_count": 32,
   "metadata": {},
   "outputs": [
    {
     "data": {
      "image/png": "[encoded data removed]",
      "text/plain": [
       "<Figure size 504x360 with 1 Axes>"
      ]
     },
     "execution_count": 32,
     "metadata": {},
     "output_type": "execute_result"
    }
   ],
   "source": [
    "qobj = assemble(qc_ha)\n",
    "sim = Aer.get_backend('qasm_simulator')\n",
    "counts = sim.run(qobj).result().get_counts()\n",
    "plot_histogram(counts)"
   ]
  },
  {
   "cell_type": "code",
   "execution_count": null,
   "metadata": {},
   "outputs": [],
   "source": []
  }
 ],
 "metadata": {
  "kernelspec": {
   "display_name": "Python 3",
   "language": "python",
   "name": "python3"
  },
  "language_info": {
   "codemirror_mode": {
    "name": "ipython",
    "version": 3
   },
   "file_extension": ".py",
   "mimetype": "text/x-python",
   "name": "python",
   "nbconvert_exporter": "python",
   "pygments_lexer": "ipython3",
   "version": "3.7.4"
  }
 },
 "nbformat": 4,
 "nbformat_minor": 2
}
